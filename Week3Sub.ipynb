{
  "nbformat": 4,
  "nbformat_minor": 0,
  "metadata": {
    "colab": {
      "name": "Week3Sub.ipynb",
      "version": "0.3.2",
      "provenance": [],
      "collapsed_sections": [],
      "machine_shape": "hm"
    },
    "kernelspec": {
      "name": "python3",
      "display_name": "Python 3"
    }
  },
  "cells": [
    {
      "cell_type": "code",
      "metadata": {
        "id": "R46bEW0tNx34",
        "colab_type": "code",
        "colab": {}
      },
      "source": [
        "import numpy as np\n",
        "import pandas as pd\n",
        "\n",
        "import sklearn as sk\n",
        "from sklearn.preprocessing import scale\n",
        "\n",
        "import matplotlib.pyplot as plt"
      ],
      "execution_count": 0,
      "outputs": []
    },
    {
      "cell_type": "code",
      "metadata": {
        "id": "KL1jLMj8pK49",
        "colab_type": "code",
        "colab": {}
      },
      "source": [
        "test_id = pd.read_csv('test_identity.csv', low_memory=False)\n",
        "train_id =  pd.read_csv('train_identity.csv', low_memory=False)\n",
        "test_trans = pd.read_csv('test_transaction.csv', low_memory=False)\n",
        "train_trans =  pd.read_csv('train_transaction.csv', low_memory=False)"
      ],
      "execution_count": 0,
      "outputs": []
    },
    {
      "cell_type": "code",
      "metadata": {
        "id": "Suo3jr1Bpg5U",
        "colab_type": "code",
        "colab": {
          "base_uri": "https://localhost:8080/",
          "height": 51
        },
        "outputId": "e17b79dc-c15e-4c98-bffc-e76d8df158d8"
      },
      "source": [
        "print('train identity count',len(train_id))\n",
        "print('train transaction count',len(train_trans))"
      ],
      "execution_count": 3,
      "outputs": [
        {
          "output_type": "stream",
          "text": [
            "train identity count 144233\n",
            "train transaction count 498275\n"
          ],
          "name": "stdout"
        }
      ]
    },
    {
      "cell_type": "code",
      "metadata": {
        "id": "7o4yRpAQoFFA",
        "colab_type": "code",
        "outputId": "5bf78b6e-ab32-4afc-cdea-88328481d3a5",
        "colab": {
          "base_uri": "https://localhost:8080/",
          "height": 51
        }
      },
      "source": [
        "print('test identity count', len(test_id))\n",
        "print('test transaction count',len(test_trans))"
      ],
      "execution_count": 4,
      "outputs": [
        {
          "output_type": "stream",
          "text": [
            "test identity count 141907\n",
            "test transaction count 459533\n"
          ],
          "name": "stdout"
        }
      ]
    },
    {
      "cell_type": "code",
      "metadata": {
        "id": "bmVal-2UptkB",
        "colab_type": "code",
        "outputId": "3954c20d-d15a-4062-bce1-5270e1bab546",
        "colab": {
          "base_uri": "https://localhost:8080/",
          "height": 153
        }
      },
      "source": [
        "print(train_trans.head())"
      ],
      "execution_count": 5,
      "outputs": [
        {
          "output_type": "stream",
          "text": [
            "   TransactionID  isFraud  TransactionDT  ...  V337 V338  V339\n",
            "0        2987000        0          86400  ...   NaN  NaN   NaN\n",
            "1        2987001        0          86401  ...   NaN  NaN   NaN\n",
            "2        2987002        0          86469  ...   NaN  NaN   NaN\n",
            "3        2987003        0          86499  ...   NaN  NaN   NaN\n",
            "4        2987004        0          86506  ...   0.0  0.0   0.0\n",
            "\n",
            "[5 rows x 394 columns]\n"
          ],
          "name": "stdout"
        }
      ]
    },
    {
      "cell_type": "code",
      "metadata": {
        "id": "tbDcmp3Ypygl",
        "colab_type": "code",
        "outputId": "40561f66-c3d9-4ef2-d2e3-f3c335711536",
        "colab": {
          "base_uri": "https://localhost:8080/",
          "height": 153
        }
      },
      "source": [
        "print(train_id.head())"
      ],
      "execution_count": 6,
      "outputs": [
        {
          "output_type": "stream",
          "text": [
            "   TransactionID  id_01  ...  DeviceType                     DeviceInfo\n",
            "0        2987004    0.0  ...      mobile  SAMSUNG SM-G892A Build/NRD90M\n",
            "1        2987008   -5.0  ...      mobile                     iOS Device\n",
            "2        2987010   -5.0  ...     desktop                        Windows\n",
            "3        2987011   -5.0  ...     desktop                            NaN\n",
            "4        2987016    0.0  ...     desktop                          MacOS\n",
            "\n",
            "[5 rows x 41 columns]\n"
          ],
          "name": "stdout"
        }
      ]
    },
    {
      "cell_type": "code",
      "metadata": {
        "id": "UJ3nrtLJp71y",
        "colab_type": "code",
        "outputId": "79098b4b-e048-41cf-9cc1-296b515541c7",
        "colab": {
          "base_uri": "https://localhost:8080/",
          "height": 1000
        }
      },
      "source": [
        "print(train_trans.isnull().sum())"
      ],
      "execution_count": 7,
      "outputs": [
        {
          "output_type": "stream",
          "text": [
            "TransactionID          0\n",
            "isFraud                0\n",
            "TransactionDT          0\n",
            "TransactionAmt         0\n",
            "ProductCD              0\n",
            "card1                  0\n",
            "card2               7289\n",
            "card3                823\n",
            "card4                833\n",
            "card5               3244\n",
            "card6                828\n",
            "addr1              56085\n",
            "addr2              56085\n",
            "dist1             301433\n",
            "dist2             465129\n",
            "P_emaildomain      77783\n",
            "R_emaildomain     380144\n",
            "C1                     0\n",
            "C2                     0\n",
            "C3                     0\n",
            "C4                     0\n",
            "C5                     0\n",
            "C6                     0\n",
            "C7                     0\n",
            "C8                     0\n",
            "C9                     0\n",
            "C10                    0\n",
            "C11                    0\n",
            "C12                    0\n",
            "C13                    0\n",
            "                   ...  \n",
            "V310                  13\n",
            "V311                  13\n",
            "V312                  13\n",
            "V313                1229\n",
            "V314                1229\n",
            "V315                1229\n",
            "V316                  13\n",
            "V317                  13\n",
            "V318                  13\n",
            "V319                  13\n",
            "V320                  13\n",
            "V321                  13\n",
            "V322              425974\n",
            "V323              425974\n",
            "V324              425974\n",
            "V325              425974\n",
            "V326              425974\n",
            "V327              425974\n",
            "V328              425974\n",
            "V329              425974\n",
            "V330              425974\n",
            "V331              425974\n",
            "V332              425974\n",
            "V333              425974\n",
            "V334              425974\n",
            "V335              425974\n",
            "V336              425974\n",
            "V337              425974\n",
            "V338              425974\n",
            "V339              425974\n",
            "Length: 394, dtype: int64\n"
          ],
          "name": "stdout"
        }
      ]
    },
    {
      "cell_type": "code",
      "metadata": {
        "id": "hqFh6G3LqId2",
        "colab_type": "code",
        "colab": {}
      },
      "source": [
        "train_trans_new=train_trans.iloc[:,0:9]"
      ],
      "execution_count": 0,
      "outputs": []
    },
    {
      "cell_type": "code",
      "metadata": {
        "id": "ExOkr2ubqTWx",
        "colab_type": "code",
        "outputId": "eb723fad-e0cb-4f15-bf58-965a8ff3327d",
        "colab": {
          "base_uri": "https://localhost:8080/",
          "height": 153
        }
      },
      "source": [
        "print(train_trans_new.head())"
      ],
      "execution_count": 9,
      "outputs": [
        {
          "output_type": "stream",
          "text": [
            "   TransactionID  isFraud  TransactionDT  ...  card2  card3       card4\n",
            "0        2987000        0          86400  ...    NaN  150.0    discover\n",
            "1        2987001        0          86401  ...  404.0  150.0  mastercard\n",
            "2        2987002        0          86469  ...  490.0  150.0        visa\n",
            "3        2987003        0          86499  ...  567.0  150.0  mastercard\n",
            "4        2987004        0          86506  ...  514.0  150.0  mastercard\n",
            "\n",
            "[5 rows x 9 columns]\n"
          ],
          "name": "stdout"
        }
      ]
    },
    {
      "cell_type": "code",
      "metadata": {
        "id": "TpUex6WcqXX0",
        "colab_type": "code",
        "outputId": "4dff2df7-b887-447d-fb37-6f094c652af3",
        "colab": {
          "base_uri": "https://localhost:8080/",
          "height": 731
        }
      },
      "source": [
        "print(train_id.isnull().sum())"
      ],
      "execution_count": 10,
      "outputs": [
        {
          "output_type": "stream",
          "text": [
            "TransactionID         0\n",
            "id_01                 0\n",
            "id_02              3361\n",
            "id_03             77909\n",
            "id_04             77909\n",
            "id_05              7368\n",
            "id_06              7368\n",
            "id_07            139078\n",
            "id_08            139078\n",
            "id_09             69307\n",
            "id_10             69307\n",
            "id_11              3255\n",
            "id_12                 0\n",
            "id_13             16913\n",
            "id_14             64189\n",
            "id_15              3248\n",
            "id_16             14893\n",
            "id_17              4864\n",
            "id_18             99120\n",
            "id_19              4915\n",
            "id_20              4972\n",
            "id_21            139074\n",
            "id_22            139064\n",
            "id_23            139064\n",
            "id_24            139486\n",
            "id_25            139101\n",
            "id_26            139070\n",
            "id_27            139064\n",
            "id_28              3255\n",
            "id_29              3255\n",
            "id_30             66668\n",
            "id_31              3951\n",
            "id_32             66647\n",
            "id_33             70944\n",
            "id_34             66428\n",
            "id_35              3248\n",
            "id_36              3248\n",
            "id_37              3248\n",
            "id_38              3248\n",
            "DeviceType         3423\n",
            "DeviceInfo        25567\n",
            "dtype: int64\n"
          ],
          "name": "stdout"
        }
      ]
    },
    {
      "cell_type": "code",
      "metadata": {
        "id": "j5JGnTVcqgeE",
        "colab_type": "code",
        "colab": {}
      },
      "source": [
        "train_id_new=train_id[['TransactionID','id_01']]"
      ],
      "execution_count": 0,
      "outputs": []
    },
    {
      "cell_type": "code",
      "metadata": {
        "id": "jXct0U_nq2YF",
        "colab_type": "code",
        "outputId": "0f84812c-5d9b-465e-bf1f-58dceb6e359a",
        "colab": {
          "base_uri": "https://localhost:8080/",
          "height": 119
        }
      },
      "source": [
        "print(train_id_new.head())"
      ],
      "execution_count": 12,
      "outputs": [
        {
          "output_type": "stream",
          "text": [
            "   TransactionID  id_01\n",
            "0        2987004    0.0\n",
            "1        2987008   -5.0\n",
            "2        2987010   -5.0\n",
            "3        2987011   -5.0\n",
            "4        2987016    0.0\n"
          ],
          "name": "stdout"
        }
      ]
    },
    {
      "cell_type": "code",
      "metadata": {
        "id": "bsgsZT97q4Q_",
        "colab_type": "code",
        "colab": {}
      },
      "source": [
        "#now we can merge datasets\n",
        "train = pd.merge(train_trans_new,train_id_new,on='TransactionID')"
      ],
      "execution_count": 0,
      "outputs": []
    },
    {
      "cell_type": "code",
      "metadata": {
        "id": "QMXxeOwrq-wh",
        "colab_type": "code",
        "outputId": "5a60f117-edc1-49d1-84d8-6dd16856cb4e",
        "colab": {
          "base_uri": "https://localhost:8080/",
          "height": 170
        }
      },
      "source": [
        "print(train.shape)\n",
        "print(train.head())"
      ],
      "execution_count": 14,
      "outputs": [
        {
          "output_type": "stream",
          "text": [
            "(124916, 10)\n",
            "   TransactionID  isFraud  TransactionDT  ...  card3       card4  id_01\n",
            "0        2987004        0          86506  ...  150.0  mastercard    0.0\n",
            "1        2987008        0          86535  ...  150.0        visa   -5.0\n",
            "2        2987010        0          86549  ...  117.0  mastercard   -5.0\n",
            "3        2987011        0          86555  ...  185.0  mastercard   -5.0\n",
            "4        2987016        0          86620  ...  150.0        visa    0.0\n",
            "\n",
            "[5 rows x 10 columns]\n"
          ],
          "name": "stdout"
        }
      ]
    },
    {
      "cell_type": "code",
      "metadata": {
        "id": "skTSYRCfrALO",
        "colab_type": "code",
        "colab": {}
      },
      "source": [
        "frauds = train.loc[train['isFraud'] == 1]\n",
        "non_frauds = train.loc[train['isFraud'] == 0]"
      ],
      "execution_count": 0,
      "outputs": []
    },
    {
      "cell_type": "code",
      "metadata": {
        "id": "yytO01zsso3i",
        "colab_type": "code",
        "outputId": "dd51bd43-149d-4357-e269-8e39a0bddab2",
        "colab": {
          "base_uri": "https://localhost:8080/",
          "height": 300
        }
      },
      "source": [
        "plt.figure(figsize=(16,9))\n",
        "ax = frauds.plot.scatter(x='TransactionDT',y='TransactionAmt',color='red',label='Fraud')\n",
        "non_frauds.plot.scatter(x='TransactionDT',y='TransactionAmt',color='skyblue',label='Normal',ax=ax)\n",
        "plt.legend(loc='best')\n",
        "plt.show()"
      ],
      "execution_count": 16,
      "outputs": [
        {
          "output_type": "display_data",
          "data": {
            "text/plain": [
              "<Figure size 1152x648 with 0 Axes>"
            ]
          },
          "metadata": {
            "tags": []
          }
        },
        {
          "output_type": "display_data",
          "data": {
            "image/png": "[encoded data removed]",
            "text/plain": [
              "<Figure size 432x288 with 1 Axes>"
            ]
          },
          "metadata": {
            "tags": []
          }
        }
      ]
    },
    {
      "cell_type": "code",
      "metadata": {
        "id": "-bAMCkH3tST3",
        "colab_type": "code",
        "outputId": "5df4869c-9647-4d87-bd14-f59daa855258",
        "colab": {
          "base_uri": "https://localhost:8080/",
          "height": 153
        }
      },
      "source": [
        "print(train.head())"
      ],
      "execution_count": 17,
      "outputs": [
        {
          "output_type": "stream",
          "text": [
            "   TransactionID  isFraud  TransactionDT  ...  card3       card4  id_01\n",
            "0        2987004        0          86506  ...  150.0  mastercard    0.0\n",
            "1        2987008        0          86535  ...  150.0        visa   -5.0\n",
            "2        2987010        0          86549  ...  117.0  mastercard   -5.0\n",
            "3        2987011        0          86555  ...  185.0  mastercard   -5.0\n",
            "4        2987016        0          86620  ...  150.0        visa    0.0\n",
            "\n",
            "[5 rows x 10 columns]\n"
          ],
          "name": "stdout"
        }
      ]
    },
    {
      "cell_type": "code",
      "metadata": {
        "id": "7bhkQRf_tWP9",
        "colab_type": "code",
        "colab": {}
      },
      "source": [
        "ProductCD_dummy = pd.get_dummies(train['ProductCD'],prefix='ProductCD')\n",
        "card4_dummy = pd.get_dummies(train['card4'],prefix='card4')"
      ],
      "execution_count": 0,
      "outputs": []
    },
    {
      "cell_type": "code",
      "metadata": {
        "id": "rlxC2xKttfEi",
        "colab_type": "code",
        "outputId": "28b94650-b990-41cf-96b9-91028e44e497",
        "colab": {
          "base_uri": "https://localhost:8080/",
          "height": 221
        }
      },
      "source": [
        "print(ProductCD_dummy.head())\n",
        "print(card4_dummy.head())"
      ],
      "execution_count": 19,
      "outputs": [
        {
          "output_type": "stream",
          "text": [
            "   ProductCD_C  ProductCD_H  ProductCD_R  ProductCD_S\n",
            "0            0            1            0            0\n",
            "1            0            1            0            0\n",
            "2            1            0            0            0\n",
            "3            1            0            0            0\n",
            "4            0            1            0            0\n",
            "   card4_american express  card4_discover  card4_mastercard  card4_visa\n",
            "0                       0               0                 1           0\n",
            "1                       0               0                 0           1\n",
            "2                       0               0                 1           0\n",
            "3                       0               0                 1           0\n",
            "4                       0               0                 0           1\n"
          ],
          "name": "stdout"
        }
      ]
    },
    {
      "cell_type": "code",
      "metadata": {
        "id": "W7yUk64Ftnuo",
        "colab_type": "code",
        "colab": {}
      },
      "source": [
        "ProductCD_dummy = ProductCD_dummy.drop('ProductCD_C',axis=1)\n",
        "card4_dummy = card4_dummy.drop('card4_american express',axis=1)"
      ],
      "execution_count": 0,
      "outputs": []
    },
    {
      "cell_type": "code",
      "metadata": {
        "id": "PfBw924QuUEb",
        "colab_type": "code",
        "colab": {}
      },
      "source": [
        "train=train.drop(['ProductCD','card4'],axis=1)"
      ],
      "execution_count": 0,
      "outputs": []
    },
    {
      "cell_type": "code",
      "metadata": {
        "id": "kEBJBCb_uYtm",
        "colab_type": "code",
        "colab": {}
      },
      "source": [
        "train=train.join(ProductCD_dummy)\n",
        "train=train.join(card4_dummy)"
      ],
      "execution_count": 0,
      "outputs": []
    },
    {
      "cell_type": "code",
      "metadata": {
        "id": "i6udUYlUufwb",
        "colab_type": "code",
        "colab": {}
      },
      "source": [
        "train=train.drop('TransactionID',axis=1)"
      ],
      "execution_count": 0,
      "outputs": []
    },
    {
      "cell_type": "code",
      "metadata": {
        "id": "DYkBpFkKuuC6",
        "colab_type": "code",
        "colab": {}
      },
      "source": [
        "train_new = train.dropna()"
      ],
      "execution_count": 0,
      "outputs": []
    },
    {
      "cell_type": "code",
      "metadata": {
        "id": "rDleyiLNjKw6",
        "colab_type": "code",
        "outputId": "c9612cb8-3575-4d8f-ad54-8e37cb9b3d28",
        "colab": {
          "base_uri": "https://localhost:8080/",
          "height": 153
        }
      },
      "source": [
        "print(train_new.head())"
      ],
      "execution_count": 25,
      "outputs": [
        {
          "output_type": "stream",
          "text": [
            "   isFraud  TransactionDT  ...  card4_mastercard  card4_visa\n",
            "0        0          86506  ...                 1           0\n",
            "1        0          86535  ...                 0           1\n",
            "2        0          86549  ...                 1           0\n",
            "3        0          86555  ...                 1           0\n",
            "4        0          86620  ...                 0           1\n",
            "\n",
            "[5 rows x 13 columns]\n"
          ],
          "name": "stdout"
        }
      ]
    },
    {
      "cell_type": "code",
      "metadata": {
        "id": "pdHF6SK_jQKN",
        "colab_type": "code",
        "colab": {}
      },
      "source": [
        "x= train_new.drop('isFraud',axis=1)\n",
        "y= train_new['isFraud']"
      ],
      "execution_count": 0,
      "outputs": []
    },
    {
      "cell_type": "code",
      "metadata": {
        "id": "m2MuofMZjZep",
        "colab_type": "code",
        "colab": {}
      },
      "source": [
        "from sklearn.model_selection import train_test_split"
      ],
      "execution_count": 0,
      "outputs": []
    },
    {
      "cell_type": "markdown",
      "metadata": {
        "id": "fGIbH-R1N6Ry",
        "colab_type": "text"
      },
      "source": [
        "*Logistics* Regression Part"
      ]
    },
    {
      "cell_type": "code",
      "metadata": {
        "id": "KNaD8OoBuulu",
        "colab_type": "code",
        "colab": {}
      },
      "source": [
        "x_train, x_test, y_train, y_test = train_test_split(x, y, test_size=0.30)"
      ],
      "execution_count": 0,
      "outputs": []
    },
    {
      "cell_type": "code",
      "metadata": {
        "id": "u7Rg3uS5jaDY",
        "colab_type": "code",
        "colab": {}
      },
      "source": [
        "from sklearn import linear_model"
      ],
      "execution_count": 0,
      "outputs": []
    },
    {
      "cell_type": "code",
      "metadata": {
        "id": "qxiW3THwjk4E",
        "colab_type": "code",
        "outputId": "800ce791-fd7f-4c32-baa4-567f480c3358",
        "colab": {
          "base_uri": "https://localhost:8080/",
          "height": 156
        }
      },
      "source": [
        "logistic = linear_model.LogisticRegression(C=1e5)\n",
        "logistic.fit(x_train,y_train)"
      ],
      "execution_count": 33,
      "outputs": [
        {
          "output_type": "stream",
          "text": [
            "/usr/local/lib/python3.6/dist-packages/sklearn/linear_model/logistic.py:432: FutureWarning: Default solver will be changed to 'lbfgs' in 0.22. Specify a solver to silence this warning.\n",
            "  FutureWarning)\n"
          ],
          "name": "stderr"
        },
        {
          "output_type": "execute_result",
          "data": {
            "text/plain": [
              "LogisticRegression(C=100000.0, class_weight=None, dual=False,\n",
              "                   fit_intercept=True, intercept_scaling=1, l1_ratio=None,\n",
              "                   max_iter=100, multi_class='warn', n_jobs=None, penalty='l2',\n",
              "                   random_state=None, solver='warn', tol=0.0001, verbose=0,\n",
              "                   warm_start=False)"
            ]
          },
          "metadata": {
            "tags": []
          },
          "execution_count": 33
        }
      ]
    },
    {
      "cell_type": "markdown",
      "metadata": {
        "id": "HZf-DdOIjoc8",
        "colab_type": "text"
      },
      "source": [
        "print results"
      ]
    },
    {
      "cell_type": "code",
      "metadata": {
        "id": "NRzPlf-zjqao",
        "colab_type": "code",
        "outputId": "a3d35613-2093-4d1b-af44-7956417dd945",
        "colab": {
          "base_uri": "https://localhost:8080/",
          "height": 34
        }
      },
      "source": [
        "print('Score',logistic.score(x_test,y_test))"
      ],
      "execution_count": 35,
      "outputs": [
        {
          "output_type": "stream",
          "text": [
            "Score 0.9260720227553265\n"
          ],
          "name": "stdout"
        }
      ]
    }
  ]
}